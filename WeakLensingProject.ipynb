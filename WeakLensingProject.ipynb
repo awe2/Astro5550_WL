{
 "cells": [
  {
   "cell_type": "markdown",
   "metadata": {},
   "source": [
    "# Weak Lensing \n",
    "\n",
    "### Andrew Engel et al\n",
    "\n",
    "### For Astro 5550\n"
   ]
  },
  {
   "cell_type": "markdown",
   "metadata": {},
   "source": [
    "### Background:\n",
    "\n",
    "Lensing is the effect of deflection of photons by an intermediate potential. The deflection manifests as virtual images $I_1$, and $I_2$ which are observed at an angle $\\theta_1$ and $\\theta_2$ measured from the line of sight to the center of the potential. Let $\\beta_i$ be the angle between the line of sight center of potential to the source. The difference between the observed $\\theta$ and original angle $\\beta$ is $\\hat{\\alpha(\\theta)} \\frac{D_ls}{D_s}$, with $D_{ls}$ the distance between the source and the lens, and $D_s$ the distance between the observer and the source. let $D_l$ additionally be the distance from the observer to the lens.\n",
    "\n",
    "while the above describes the effect of displacement of the center of the source from foreground galaxies, consider that galaxies are extended objects with roughly elliptical profiles. The effect of considering lens on ellipses are that they become tangentially sheared assymetrically around their center. The additional ellipticity induced by a foreground lens on all background galaxies can be compared to an assumption of a random distribution of isotropic ellipticity (therefore mean of zero) to observe a bias in the ellipticies around a foreground lens. The strength and profile of the lens is therefore coupled to the potential of the lens. We can use these measurements to fit mass-density profiles or derive important physical parameters to probe the total mass, i.e., including both baryonic and non-baryonic (dark matter) components.\n",
    "\n",
    "Assume I have a dataset of observed right ascension, declination, ellipticity, and orientation angles. lets denote right ascension as \\alpha, declination as \\delta, ellipticity as e, and orientation angle as \\alpha. Assume included in this dataset is nearby elliptical lens galaxy at coordinates \\alpha_0 \\delta_0. Assume I also have the redshifts of the lens and redshift of each background galaxy through photometric redshifts.\n",
    "\n",
    "Step 1) compute the following higher order data products for each background galaxy: change in right ascension relative to a central lens, change in declination relative to central lens. Compute position angle and angular displacement for each background galaxy. Compute e1 and e2 using:\n",
    "\n",
    "$$\n",
    "e_1^2 = e^2 / (1 + \\tan^2(2\\alpha) ) \\\\\n",
    "e_2^2 = e_1 \\tan(2\\alpha)\n",
    "$$\n",
    "\n",
    "Step 2) construct circular annuli around the lens galaxy. For every background galaxy that fall in the annuli, average over e_1 and e_2, which will give \\gamma_1 and \\gamma_2 as a function of angular displacement \\theta from the lens galaxy.\n",
    "\n",
    "Step 3) Compute \\gamma_t(\\theta) , though I am unsure of how to do this given \\gamma_1(\\theta) and \\gamma_2(\\theta). \n",
    "\n",
    "Step 4) relate the \\gamma_t to a prediction of \\gamma_t for a mass density profile, where we have discussed SIS and other common alternatives. Being able to fit the mass density profile is in part the entire point of the analysis. I'd like your help identifying follow-on analysis or help understanding how uncertainty in the redshifts of the source can be factored into the mass density profile of the lens."
   ]
  },
  {
   "cell_type": "code",
   "execution_count": 10,
   "metadata": {},
   "outputs": [],
   "source": [
    "import einops"
   ]
  },
  {
   "cell_type": "code",
   "execution_count": null,
   "metadata": {},
   "outputs": [],
   "source": [
    "def f_obs(theta):\n",
    "    fs(einops.reduce(A,theta,'i j ')"
   ]
  }
 ],
 "metadata": {
  "kernelspec": {
   "display_name": "astro5550",
   "language": "python",
   "name": "python3"
  },
  "language_info": {
   "codemirror_mode": {
    "name": "ipython",
    "version": 3
   },
   "file_extension": ".py",
   "mimetype": "text/x-python",
   "name": "python",
   "nbconvert_exporter": "python",
   "pygments_lexer": "ipython3",
   "version": "3.12.8"
  }
 },
 "nbformat": 4,
 "nbformat_minor": 2
}
