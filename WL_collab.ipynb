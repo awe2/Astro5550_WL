{
  "nbformat": 4,
  "nbformat_minor": 0,
  "metadata": {
    "colab": {
      "provenance": [],
      "authorship_tag": "ABX9TyNHJSkWwPBHo6ADn9kuIsR1",
      "include_colab_link": true
    },
    "kernelspec": {
      "name": "python3",
      "display_name": "Python 3"
    },
    "language_info": {
      "name": "python"
    }
  },
  "cells": [
    {
      "cell_type": "markdown",
      "metadata": {
        "id": "view-in-github",
        "colab_type": "text"
      },
      "source": [
        "<a href=\"https://colab.research.google.com/github/awe2/Astro5550_WL/blob/main/WL_collab.ipynb\" target=\"_parent\"><img src=\"https://colab.research.google.com/assets/colab-badge.svg\" alt=\"Open In Colab\"/></a>"
      ]
    },
    {
      "cell_type": "markdown",
      "source": [
        "### Background:\n",
        "\n",
        "Lensing is the effect of deflection of photons by an intermediate potential.\n",
        "The deflection manifests as virtual images $I_1$, and $I_2$ which are observed\n",
        "at an angle $\\theta_1$ and $\\theta_2$ measured from the line of sight to the\n",
        "center of the potential. Let $\\beta_i$ be the angle between the line of sight\n",
        "center of potential to the source. The difference between the observed\n",
        "$\\theta$ and original angle $\\beta$ is $\\hat{\\alpha(\\theta)} \\frac{D_ls}{D_s}$,\n",
        "with $D_{ls}$ the distance between the source and the lens, and $D_s$ the\n",
        "distance between the observer and the source. let $D_l$ additionally be the\n",
        "distance from the observer to the lens.\n",
        "\n",
        "while the above describes the effect of displacement of the center of the source\n",
        "from foreground galaxies, consider that galaxies are extended objects with\n",
        "roughly elliptical profiles. The effect of considering lens on ellipses are\n",
        "that they become tangentially sheared assymetrically around their center. The\n",
        "additional ellipticity induced by a foreground lens on all background galaxies\n",
        "can be compared to an assumption of a random distribution of isotropic\n",
        "ellipticity (therefore mean of zero) to observe a bias in the ellipticies around\n",
        "a foreground lens. The strength and profile of the lens is therefore coupled to\n",
        "the potential of the lens. We can use these measurements to fit mass-density\n",
        "profiles or derive important physical parameters to probe the total mass, i.e.,\n",
        "including both baryonic and non-baryonic (dark matter) components.\n",
        "\n",
        "Assume I have a dataset of observed right ascension, declination, ellipticity,\n",
        "and orientation angles. lets denote right ascension as $\\alpha$, declination as\n",
        "$\\delta$, ellipticity as e, and orientation angle as $\\psi$. Assume included\n",
        "in this dataset is nearby elliptical lens galaxy at coordinates $\\alpha_0$\n",
        "$\\delta_0.$ Assume I also have the redshifts of the lens and redshift of each\n",
        "background galaxy through photometric redshifts. Assume a $\\Lambda \\text{CDM}$ Cosmology, so that we can convert our redshifts to distance estimates.\n",
        "\n",
        "Step 1) compute the following higher order data products for each background\n",
        "galaxy: change in right ascension relative to a central lens, change in\n",
        "declination relative to central lens:\n",
        "\n",
        "$$\n",
        "\\Delta \\alpha = \\alpha - \\alpha_0 \\\\\n",
        "\\Delta \\delta = \\delta - \\delta_0\n",
        "$$\n",
        "\n",
        "Compute position angle and angular displacement for each background galaxy:\n",
        "\n",
        "$$\n",
        "\\theta = \\sqrt{(\\Delta \\alpha \\cos(\\delta_0))^2 + (\\Delta \\delta)^2} \\\\\n",
        "\\phi = \\arctan(\\frac{\\Delta \\delta}{\\Delta \\alpha \\cos(\\delta_0)})\n",
        "$$\n",
        "\n",
        "Then compute $e_1$ and $e_2$ using:\n",
        "\n",
        "$$\n",
        "e_1 = e \\cos(\\psi) \\\\\n",
        "e_2 = e \\sin(\\psi)\n",
        "$$\n",
        "\n",
        "Finally, we need to roate the frame from using right ascension and declination coordinates to a frame that is tangential and cross terms compared to the position of the lens galaxy.\n",
        "\n",
        "$$\n",
        "e_t = -e_1 \\cos(2\\phi) - e_2 \\sin(2\\phi) \\\\\n",
        "e_{\\times} = e_1 \\sin(2\\phi) - e_2 \\cos(2\\phi)\n",
        "$$\n",
        "\n",
        "Step 2) construct circular annuli around the lens galaxy. The circular annuli (either linearly or logarithmically spaced) can essentially be a mask for background galaxies that fall within a $\\theta_n < \\theta < \\theta_{n+1}$. For all background galaxies within the annuli, average over $e_t$ and $e_{\\times}$.\n",
        "\n",
        "We perform this average because for each galaxy we essentially model the ellipticity as drawn from a uniform but centered distribution with a bias term that is called the shear, $\\gamma$. For example, the observed ellipticity is:\n",
        "$$\n",
        "e_{\\text{obs},i} = e_{\\text{true},i} + \\gamma\n",
        "$$\n",
        "Therefore taking the expectation of $e_{\\text{obs},i}$ distributes linearly and:\n",
        "$$\n",
        "<e_{\\text{obs},i}> = <e_{\\text{true},i}> + <\\gamma> =  \\gamma.\n",
        "$$\n",
        "Importantly, note $<e_{\\text{true},i}> = 0$ because of our assumption of a centered true ellipticity distribution.\n",
        "\n",
        "The average should therefore result in a shear as a function of angular displacement from the lens galaxy center, $\\gamma(\\theta)$. We can use interpolation techniques to evaluate the function at any angular displacement.As a check of systematics, we can also compute $<e_{\\times}>$ which should be equal to zero.\n",
        "\n",
        "Step 3) Assume a mass profile for our lens galaxy. For simplicity, we will assume a singular isothermal sphere:\n",
        "$$\n",
        "\\rho(r) = \\frac{\\sigma^2_{V}}{2 \\pi G r^2}\n",
        "$$\n",
        "For this choice of mass distribution weak lensing relationship of mass to shear actually becomes analytic, with $\\gamma_t(\\theta) = \\frac{\\Theta_E}{2 \\theta}$, where $\\Theta_E$ is the einstein radius, with $\\Theta_E = 4 \\pi (\\frac{\\sigma_V}{c})^2 \\frac{D_{\\text{LS}}}{D_s}$, and $D_{\\text{LS}}$ is the distance between the lens and the source and $D_s$ is the distance between the observer and the source. We use a model of cosmology and the estimated photometric redshifts of each object to find these distances.\n",
        "\n",
        "This is immediately exciting, because it implies that we should be able to extract the $\\sigma_V^2$, which is the variance of the stellar velocities in the elliptical galaxy. Because variance in stellar velocities gives rise to doppler shifts, we can actually measure these values spectroscopically as a check.\n",
        "\n",
        "Using the $\\sigma_V^2$, we can compute the dynamical mass of the galaxy, (an estimator of the total mass both baryonic and dark matter) with:\n",
        "$$\n",
        "M_{\\text{dyn}}= k R \\frac{\\sigma_v^2}{G}\n",
        "$$\n",
        "with R the half-light radius of the galaxy, which can be fit or to good approximation is $\\sqrt{ab}$ and $k$ a constant determined empirically for elliptical galaxies of about 5. When using this equation, use $R$ in units kiloparsec, and $\\sigma_v^2$ in units $(\\text{km/s})^2$, and recall that in these units $G \\approx 4.302 \\times 10^{-6}$"
      ],
      "metadata": {
        "id": "kSTp8zBZpJ1v"
      }
    },
    {
      "cell_type": "code",
      "execution_count": null,
      "metadata": {
        "id": "7y6_P4LxnxuT"
      },
      "outputs": [],
      "source": []
    }
  ]
}